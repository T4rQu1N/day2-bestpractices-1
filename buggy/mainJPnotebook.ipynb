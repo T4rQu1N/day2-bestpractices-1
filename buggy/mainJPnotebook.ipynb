{
 "cells": [
  {
   "cell_type": "code",
   "execution_count": null,
   "metadata": {
    "scrolled": false
   },
   "outputs": [
    {
     "name": "stdout",
     "output_type": "stream",
     "text": [
      "Add the values of the dice\n",
      "It's really that easy\n",
      "What are you doing with your life.\n",
      "Round 1\n",
      "\n",
      "---------\n",
      "|*     *|\n",
      "|       |\n",
      "|*     *|\n",
      "---------\n",
      "---------\n",
      "|*     *|\n",
      "|       |\n",
      "|*     *|\n",
      "---------\n",
      "---------\n",
      "|*      |\n",
      "|   *   |\n",
      "|      *|\n",
      "---------\n",
      "---------\n",
      "|*     *|\n",
      "|       |\n",
      "|*     *|\n",
      "---------\n",
      "---------\n",
      "|*     *|\n",
      "|       |\n",
      "|*     *|\n",
      "---------\n",
      "Sigh. What is your guess?: 19\n",
      "Congrats, you can add like a 5 year old...\n",
      "Wins: 1 Loses 0\n",
      "Would you like to play again?[y/n]: y\n",
      "Round 2\n",
      "\n",
      "---------\n",
      "|*      |\n",
      "|   *   |\n",
      "|      *|\n",
      "---------\n",
      "---------\n",
      "|*      |\n",
      "|       |\n",
      "|      *|\n",
      "---------\n",
      "---------\n",
      "|*     *|\n",
      "|*     *|\n",
      "|*     *|\n",
      "---------\n",
      "---------\n",
      "|*     *|\n",
      "|       |\n",
      "|*     *|\n",
      "---------\n",
      "---------\n",
      "|*      |\n",
      "|   *   |\n",
      "|      *|\n",
      "---------\n"
     ]
    }
   ],
   "source": [
    "from dicegame.runner import GameRunner\n",
    "\n",
    "\n",
    "def main():\n",
    "    print(\"Add the values of the dice\")\n",
    "    print(\"It's really that easy\")\n",
    "    print(\"What are you doing with your life.\")\n",
    "   # import ipdb; ipdb.set_trace() # add pdb here\n",
    "    GameRunner.run()\n",
    "\n",
    "\n",
    "if __name__ == \"__main__\":\n",
    "    main()\n"
   ]
  },
  {
   "cell_type": "code",
   "execution_count": null,
   "metadata": {},
   "outputs": [],
   "source": []
  },
  {
   "cell_type": "code",
   "execution_count": null,
   "metadata": {},
   "outputs": [],
   "source": []
  }
 ],
 "metadata": {
  "kernelspec": {
   "display_name": "Python 3",
   "language": "python",
   "name": "python3"
  },
  "language_info": {
   "codemirror_mode": {
    "name": "ipython",
    "version": 3
   },
   "file_extension": ".py",
   "mimetype": "text/x-python",
   "name": "python",
   "nbconvert_exporter": "python",
   "pygments_lexer": "ipython3",
   "version": "3.8.3"
  }
 },
 "nbformat": 4,
 "nbformat_minor": 4
}
